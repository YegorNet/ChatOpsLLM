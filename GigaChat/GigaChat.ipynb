{
  "nbformat": 4,
  "nbformat_minor": 0,
  "metadata": {
    "colab": {
      "provenance": [],
      "include_colab_link": true
    },
    "kernelspec": {
      "name": "python3",
      "display_name": "Python 3"
    },
    "language_info": {
      "name": "python"
    }
  },
  "cells": [
    {
      "cell_type": "markdown",
      "metadata": {
        "id": "view-in-github",
        "colab_type": "text"
      },
      "source": [
        "<a href=\"https://colab.research.google.com/github/YegorNet/ChatOpsLLM/blob/main/GigaChat.ipynb\" target=\"_parent\"><img src=\"https://colab.research.google.com/assets/colab-badge.svg\" alt=\"Open In Colab\"/></a>"
      ]
    },
    {
      "cell_type": "markdown",
      "source": [
        "Выполнение запросов к модели Gigachad с помощью API.\n",
        "\n",
        "---\n",
        "Выполнил: Бублий Егор Константинович\n",
        "\n",
        "Цель: Изучить ответы языковой модели, на вопросы заднные по тематике законадательства в сфере информационной безопасности\n"
      ],
      "metadata": {
        "id": "xmvGfVucy-l0"
      }
    },
    {
      "cell_type": "markdown",
      "source": [
        "1. Инициализаиця языковой модели"
      ],
      "metadata": {
        "id": "P9zKOIcUzgmd"
      }
    },
    {
      "cell_type": "code",
      "execution_count": 1,
      "metadata": {
        "colab": {
          "base_uri": "https://localhost:8080/"
        },
        "id": "VTeaMwLQ-ERv",
        "outputId": "5a7a2592-a964-4cb8-bcfd-688714c8a155"
      },
      "outputs": [
        {
          "output_type": "stream",
          "name": "stdout",
          "text": [
            "\u001b[2K     \u001b[90m━━━━━━━━━━━━━━━━━━━━━━━━━━━━━━━━━━━━━━━━\u001b[0m \u001b[32m835.0/835.0 kB\u001b[0m \u001b[31m5.6 MB/s\u001b[0m eta \u001b[36m0:00:00\u001b[0m\n",
            "\u001b[2K     \u001b[90m━━━━━━━━━━━━━━━━━━━━━━━━━━━━━━━━━━━━━━━━\u001b[0m \u001b[32m1.8/1.8 MB\u001b[0m \u001b[31m13.2 MB/s\u001b[0m eta \u001b[36m0:00:00\u001b[0m\n",
            "\u001b[2K     \u001b[90m━━━━━━━━━━━━━━━━━━━━━━━━━━━━━━━━━━━━━━━━\u001b[0m \u001b[32m274.3/274.3 kB\u001b[0m \u001b[31m11.9 MB/s\u001b[0m eta \u001b[36m0:00:00\u001b[0m\n",
            "\u001b[2K     \u001b[90m━━━━━━━━━━━━━━━━━━━━━━━━━━━━━━━━━━━━━━━━\u001b[0m \u001b[32m87.5/87.5 kB\u001b[0m \u001b[31m6.9 MB/s\u001b[0m eta \u001b[36m0:00:00\u001b[0m\n",
            "\u001b[2K     \u001b[90m━━━━━━━━━━━━━━━━━━━━━━━━━━━━━━━━━━━━━━━━\u001b[0m \u001b[32m49.4/49.4 kB\u001b[0m \u001b[31m3.5 MB/s\u001b[0m eta \u001b[36m0:00:00\u001b[0m\n",
            "\u001b[2K     \u001b[90m━━━━━━━━━━━━━━━━━━━━━━━━━━━━━━━━━━━━━━━━\u001b[0m \u001b[32m53.0/53.0 kB\u001b[0m \u001b[31m1.8 MB/s\u001b[0m eta \u001b[36m0:00:00\u001b[0m\n",
            "\u001b[2K     \u001b[90m━━━━━━━━━━━━━━━━━━━━━━━━━━━━━━━━━━━━━━━━\u001b[0m \u001b[32m75.6/75.6 kB\u001b[0m \u001b[31m4.2 MB/s\u001b[0m eta \u001b[36m0:00:00\u001b[0m\n",
            "\u001b[2K     \u001b[90m━━━━━━━━━━━━━━━━━━━━━━━━━━━━━━━━━━━━━━━━\u001b[0m \u001b[32m144.8/144.8 kB\u001b[0m \u001b[31m1.2 MB/s\u001b[0m eta \u001b[36m0:00:00\u001b[0m\n",
            "\u001b[2K     \u001b[90m━━━━━━━━━━━━━━━━━━━━━━━━━━━━━━━━━━━━━━━━\u001b[0m \u001b[32m77.9/77.9 kB\u001b[0m \u001b[31m6.7 MB/s\u001b[0m eta \u001b[36m0:00:00\u001b[0m\n",
            "\u001b[2K     \u001b[90m━━━━━━━━━━━━━━━━━━━━━━━━━━━━━━━━━━━━━━━━\u001b[0m \u001b[32m58.3/58.3 kB\u001b[0m \u001b[31m5.2 MB/s\u001b[0m eta \u001b[36m0:00:00\u001b[0m\n",
            "\u001b[?25h"
          ]
        }
      ],
      "source": [
        "# Установка библиотеки GigaChain (форк LangChain)\n",
        "!pip install gigachain -q"
      ]
    },
    {
      "cell_type": "code",
      "source": [
        "# Импорт необходимых библиотек\n",
        "from langchain.chat_models import GigaChat\n",
        "from getpass import getpass\n",
        "from langchain.prompts.chat import (\n",
        "    AIMessagePromptTemplate,\n",
        "    ChatPromptTemplate,\n",
        "    HumanMessagePromptTemplate,\n",
        "    SystemMessagePromptTemplate,\n",
        ")\n",
        "from langchain.schema import AIMessage, HumanMessage, SystemMessage"
      ],
      "metadata": {
        "id": "e6llapB--f43"
      },
      "execution_count": 2,
      "outputs": []
    },
    {
      "cell_type": "code",
      "source": [
        "# Запрос пеослнального ключа, для доступа к модели\n",
        "gigachat_api_key = getpass(prompt='Введите API ключ (Авторизационные данные) от GigaChat')"
      ],
      "metadata": {
        "colab": {
          "base_uri": "https://localhost:8080/"
        },
        "id": "9d-feDpr-nXc",
        "outputId": "baba68ef-2245-4688-befb-f53ce4fc8f7d"
      },
      "execution_count": 3,
      "outputs": [
        {
          "name": "stdout",
          "output_type": "stream",
          "text": [
            "Введите API ключ (Авторизационные данные) от GigaChat··········\n"
          ]
        }
      ]
    },
    {
      "cell_type": "code",
      "source": [
        "# Инициализируем языковую модель GigaChat\n",
        "#verify_ssl_certs=False – без установки сертификатов Минцифры\n",
        "llm = GigaChat(credentials=gigachat_api_key, verify_ssl_certs=False, temperature=0.0)\n"
      ],
      "metadata": {
        "id": "zQIF6e3P-sVq"
      },
      "execution_count": 4,
      "outputs": []
    },
    {
      "cell_type": "markdown",
      "source": [
        "2. Создание запросов к языковой модели"
      ],
      "metadata": {
        "id": "r-LuKNQD0LiE"
      }
    },
    {
      "cell_type": "code",
      "source": [
        "# Структура запроса к языковой модели, с применением роли\n",
        "messages = [\n",
        "    SystemMessage(\n",
        "        content=\"Ты умный и всезнающий аналитик информационной безопасности в России.\"\n",
        "    ),\n",
        "    HumanMessage(content=\"Что представляет собой категорирование объекта критической информационной инфраструктуры, согласно федеральному закону N 187 - ФЗ?\"),\n",
        "]\n",
        "llm(messages)"
      ],
      "metadata": {
        "colab": {
          "base_uri": "https://localhost:8080/"
        },
        "id": "ySY94i7WBnPw",
        "outputId": "2f166f67-dabc-477b-e67a-bf3a8e21448b"
      },
      "execution_count": 6,
      "outputs": [
        {
          "output_type": "execute_result",
          "data": {
            "text/plain": [
              "AIMessage(content='Категорирование объекта критической информационной инфраструктуры (КИИ) - это процесс определения степени важности и уязвимости данного объекта для обеспечения безопасности его функционирования. Это необходимо для того, чтобы определить меры по защите этого объекта от возможных кибератак или других угроз.\\n\\nСогласно Федеральному закону № 187-ФЗ \"О безопасности критической информационной инфраструктуры Российской Федерации\", категорирование объектов КИИ проводится в соответствии с требованиями Постановления Правительства РФ от 08.02.2018 № 127.\\n\\nКатегорирование включает в себя оценку следующих параметров:\\n\\n1. Степень влияния объекта на безопасность государства, региона или отрасли.\\n2. Уровень потенциального ущерба, который может быть нанесен объекту в результате кибератаки или другого инцидента.\\n3. Уровень защищенности объекта от угроз.\\n4. Количество и тип используемых информационных систем.\\n5. Наличие и степень автоматизации процессов управления объектом.\\n\\nПо результатам категорирования объекту присваивается одна из трех категорий:\\n\\n1. Категория значимых объектов КИИ.\\n2. Категория объектов КИИ высокого уровня опасности.\\n3. Категория объектов КИИ среднего уровня опасности.\\n\\nКаждая категория имеет свои особенности в плане мер по обеспечению безопасности и защиты от угроз.', response_metadata={'token_usage': Usage(prompt_tokens=49, completion_tokens=296, total_tokens=345), 'model_name': 'GigaChat:3.1.24.3', 'finish_reason': 'stop'})"
            ]
          },
          "metadata": {},
          "execution_count": 6
        }
      ]
    },
    {
      "cell_type": "markdown",
      "source": [
        "Вывод:\n",
        "В результате данной работы, модель показала себя с хорошей стороны, ответы касающиеся федеральных законов и постановлений правительств были верные. Но ответы, касающиеся приказов ФСТЭК или РКН были с ошибками. Подробные ответы и перечень вопросов, находяться в exel файле."
      ],
      "metadata": {
        "id": "TbMtOBFa0YTI"
      }
    }
  ]
}